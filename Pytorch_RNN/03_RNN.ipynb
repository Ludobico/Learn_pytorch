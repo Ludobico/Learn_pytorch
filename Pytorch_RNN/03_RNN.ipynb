{
 "cells": [
  {
   "attachments": {},
   "cell_type": "markdown",
   "metadata": {},
   "source": [
    "## RNN 구조\n",
    "\n",
    "RNN은 은닉층 노드들이 연결되어 있는 이전 단계 정보를 은닉층 노드에 저장할 수 있도록 구성한 신경망입니다.\n",
    "\n",
    "다음 그림에서 볼 수 있듯이 xt-1에서 ht-1을 얻고 다음 단계에서 ht-1과 xt를 사용하여 과거 정보와 현재 정보를 모두 반영합니다. 또한, ht와 xt+1의 정보를 이용하여 과거와 현재 정보를 반복해서 반영하는데, 이러한 구조를 요약한 것이 다음 그림의 오른쪽 부분과 같습니다.\n",
    "\n",
    "![](../Static/372.jpg)\n",
    "\n",
    "RNN에서는 입력층, 은닉층, 출력층 외에 가중치를 세 개 가집니다. RNN의 가중치는 Wxh, Whh, Why 로 분류됩니다."
   ]
  },
  {
   "attachments": {},
   "cell_type": "markdown",
   "metadata": {},
   "source": [
    "Wxh는 입력층에서 은닉층으로 전달되는 가중치이고, Whh는 t 시점의 은닉층에서 t+1 시점의 은닉층으로 전달되는 가중치입니다. 또한 Why는 은닉층에서 출력층으로 전달되는 가중치입니다. 가중치 Wxh, Whh, Why는 `모든 시점에 동일`하다는 것에 주의할 필요가 있습니다. 즉, `가중치를 공유`하는데 그림과 같이 모든 가중치가 동일한 것을 확인할 수 있습니다.\n",
    "\n",
    "이제 t단계에서의 RNN 계산에 대해 알아보겠습니다.\n",
    "\n",
    "1. `은닉층` 계산을 위해 xt와 ht-1이 필요합니다. 즉, (이전 은닉층 x 은닉층 -> 은닉층 가중치 + 입력층 -> 은닉층 가중치 x (현재) 입력 값)으로 계산할 수 있으며, RNN에서 은닉층은 일반적으로 `하이퍼볼릭 탄젠트` 활성화 함수를 사용합니다. 이를 수식으로 나타내면 다음과 같습니다.\n",
    "\n",
    "![](../Static/fn2-62.jpg)\n",
    "\n",
    "2. `출력층`은 심층 신경망과 계산 방법이 동일합니다. 즉, (은닉층 -> 출력층 가중치 x 현재 은닉층)에 `소프트맥스` 함수를 적용합니다. 이를 수식으로 나타내면 다음과 같습니다.\n",
    "\n",
    "![](../Static/fn2-63.jpg)\n",
    "\n",
    "3. RNN의 `오차(E)`는 심층 신경망에서 전방향(feedforward) 학습과 달리 각 단계(t)마다 오차를 측정합니다. 즉, 각 단계마다 실제 값(yt)와 예측 값(y^t)으로 `평균 제곱 오차`를 이용하여 측정합니다.\n",
    "\n",
    "![](../Static/373.jpg)\n",
    "\n",
    "4. RNN에서 `역전파`는 BPTT(BackPropagation Through Time)를 이용하여 모든 단계마다 처음부터 끝까지 역전파합니다.\n",
    "\n",
    "오차는 각 단계(t)마다 오차를 측정하고 이전 단계로 전달되는데, 이것을 BPTT라고 합니다. 즉, 3에서 구한 오차를 이용하여 Wxh, Whh, Why 및 바이어스(bias)를 업데이트합니다. 이때 BPTT는 오차가 멀리 전파될 때(왼쪽을 전파) 계산량이 많아지고 전파되는 양이 점차 적어지는 문제점(기울기 소멸 문제)이 발생합니다. 기울기 소멸 문제를 보완하기 위해 오차를 몇 단계까지만 전파시키는 `생략된-BPTT(truncated BPTT)`를 사용할 수도 있고, 근본적으로 `LSTM` 및 `GRU`를 많이 사용합니다.\n",
    "\n",
    "![](../Static/374.jpg)\n",
    "\n",
    "이제 IMDB 데이터셋(영화 리뷰 데이터 5만개)을 사용하여 파이토치에서 RNN 계층과 셀을 구현해 보겠습니다."
   ]
  },
  {
   "cell_type": "markdown",
   "metadata": {},
   "source": []
  }
 ],
 "metadata": {
  "kernelspec": {
   "display_name": "venv",
   "language": "python",
   "name": "python3"
  },
  "language_info": {
   "codemirror_mode": {
    "name": "ipython",
    "version": 3
   },
   "file_extension": ".py",
   "mimetype": "text/x-python",
   "name": "python",
   "nbconvert_exporter": "python",
   "pygments_lexer": "ipython3",
   "version": "3.9.13"
  },
  "orig_nbformat": 4,
  "vscode": {
   "interpreter": {
    "hash": "9ba10514d92c171690b73ca0a9c097f69f78d6fa5f41507cb6917f0a9599880a"
   }
  }
 },
 "nbformat": 4,
 "nbformat_minor": 2
}
