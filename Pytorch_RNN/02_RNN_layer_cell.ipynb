{
 "cells": [
  {
   "attachments": {},
   "cell_type": "markdown",
   "metadata": {},
   "source": [
    "## RNN 계층과 셀\n",
    "\n",
    "이제 RNN을 구성하는 `RNN 계층(Layer)`과 `RNN 셀(Cell)`을 살펴보겠습니다.\n",
    "\n",
    "RNN은 내장된(built-in) 계층뿐만 아니라 셀 레벨의 API도 제공합니다. RNN 게층이 입력된 배치 순서대로 모두 처리하는 것과 다르게 RNN 셀은 오직 하나의 단계(time step)만 처리합니다. 따라서 RNN 셀은 RNN 계층의 for loop 구문을 갖는 구조라고 할 수 있습니다.\n",
    "\n",
    "![](../Static/371.jpg)\n",
    "\n",
    "RNN 계층은 셀을 래핑하여 동일한 셀을 여러 단계에 적용합니다. x1, x2, ..., xn 등이 전체 RNN 셀에서 사용되고 있습니다. 즉, 셀은 실제 계산에 사용되는 RNN 계층의 구성 요소로, 단일 입력과 과거 상태(state)를 가져와서 출력과 새로운 상태를 생성합니다.\n",
    "\n",
    "참고로 셀 유형은 다음과 같습니다.\n",
    "\n",
    "* `nn.RNNCell` SimpleRNN 계층에 대응되는 RNN 셀\n",
    "* `nn.GRUCell` GRU 계층에 대응되는 GRU 셀\n",
    "* `nn.LSTMCell` LSTM 계층에 대응되는 LSTM 셀\n",
    "\n",
    "이렇게 RNN 계층과 셀을 분리해서 설명하는 이유는 파이토치에서 이 둘을 분리해서 구현이 가능하기 때문입니다. 따라서 앞으로 진행될 RNN 예제는 이 둘을 분리해서 진행합니다.\n",
    "\n",
    "RNN의 활용 분야로는 대표적으로 `자연어 처리`를 꼽을 수 있습니다. 연속적인 단어들의 나열인 언어(자연어) 처리는 음성 인식, 단어의 의미 판단 및 대화 등에 대한 처리가 가능합니다. 이외에도 손글씨, 센서 데이터 등 `시계열 데이터 처리`에 활용됩니다.\n",
    "\n",
    "이제 구체적으로 RNN 구조를 살펴보겠습니다."
   ]
  },
  {
   "cell_type": "markdown",
   "metadata": {},
   "source": []
  }
 ],
 "metadata": {
  "kernelspec": {
   "display_name": "venv",
   "language": "python",
   "name": "python3"
  },
  "language_info": {
   "name": "python",
   "version": "3.9.13 (tags/v3.9.13:6de2ca5, May 17 2022, 16:36:42) [MSC v.1929 64 bit (AMD64)]"
  },
  "orig_nbformat": 4,
  "vscode": {
   "interpreter": {
    "hash": "9ba10514d92c171690b73ca0a9c097f69f78d6fa5f41507cb6917f0a9599880a"
   }
  }
 },
 "nbformat": 4,
 "nbformat_minor": 2
}
