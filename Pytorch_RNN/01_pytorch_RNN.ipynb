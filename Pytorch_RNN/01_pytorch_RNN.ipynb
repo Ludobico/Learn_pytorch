{
 "cells": [
  {
   "attachments": {},
   "cell_type": "markdown",
   "metadata": {},
   "source": [
    "## 순환 신경망(RNN)\n",
    "\n",
    "RNN(Recurrent Neural Network)은 시간적으로 `연속성이 있는 데이터`를 처리하려고 고안된 인공 신경망입니다. RNN의 `Recurrent(반복되는)`은 이전 은닉층이 현재 은닉층의 입력이 되면서 `반복되는 순환 구조를 갖는다`는 의미입니다. RNN이 기존 네트워크와 다른 점은 `기억(Memory)`을 갖는다는 것입니다. 이때 기억은 현재까지 입력 데이터를 요약한 정보라고 생각하면 됩니다. 따라서 새로운 입력이 네트워크로 들어올 때마다 기억은 조금씩 수정되며, 결국 최종적으로 `남겨진 기억은 모든 입력 전체를 요약한 정보`가 됩니다.\n",
    "\n",
    "![](../Static/368.jpg)"
   ]
  },
  {
   "attachments": {},
   "cell_type": "markdown",
   "metadata": {},
   "source": [
    "그림과 같이 첫 번째 입력(x1)이 들어오면 첫 번째 기억(h1)이 만들어지고, 두 번째 입력(x2)이 들어오면 기존 기억(h1)과 새로운 입력을 참고하여 새 기억(h2)를 만듭니다. 입력 길이만큼 이 과정을 얼마든지 반복할 수 있습니다. 즉, RNN은 외부 입력과 자신의 이전 상태를 입력받아 현재 상태를 갱신합니다.\n",
    "\n",
    "RNN은 입력과 출력에 따라 유형이 다양합니다.\n",
    "\n",
    "* `일대일` 순환이 없기 때문에 RNN이라고 말하기 어려우며, 순방향 네트워크가 대표적 사례입니다.\n",
    "\n",
    "* `일대다` 입력이 하나이고, 출력이 다수인 구조입니다. 이미지를 입력해서 이미지에 대한 설명을 문장으로 출력하는 `이미지 캡션(image captioning)`이 대표적 사례입니다.\n",
    "\n",
    "* `다대일` 입력이 다수이고 출력이 하나인 구조로, 문장을 입력해서 긍정/부정을 출력하는 `감성 분석기`에서 사용됩니다.\n",
    "\n",
    "`다대일`에 대한 모델은 파이토치에서 다음과 같이 구현합니다. 다음은 예시 코드이며, 여기에서 다루는 모든 예제가 다대일 구조를 사용하므로 전체 예제를 통해 사용 방법을 확인할 수 있습니다.\n",
    "\n",
    "```py\n",
    "self.em = nn.Embedding(len(TEXT.vocab.stoi), embedding_dim) # 임베딩 처리\n",
    "self.rnn = nn.RNNCell(input_dim, hidden_size) # RNN 적용\n",
    "self.fc1 = nn.Linear(hidden_size, 256) # 완전연결층\n",
    "self.fc2 = nn.Linear(256, 3) # 출력층\n",
    "```\n"
   ]
  },
  {
   "attachments": {},
   "cell_type": "markdown",
   "metadata": {},
   "source": [
    "코드를 구조화 하면 다음 그림과 같습니다. 하지만 코드는 입력과 출력 사이에 `하나의 RNN셀(cell)`만 가지고 있는 것에 주의해야 합니다.\n",
    "\n",
    "![](../Static/369_1.jpg)\n",
    "\n",
    "또한, 다대일 구조에 층을 쌓아 올리면 다음과 같이 적층된 구조를 가질 수 있습니다.\n",
    "\n",
    "![](../Static/369_2.jpg)"
   ]
  },
  {
   "attachments": {},
   "cell_type": "markdown",
   "metadata": {},
   "source": [
    "* `다대다` 입력과 출력이 다수인 구조로, 언어를 번역하는 `자동 번역기` 등이 대표적인 사례입니다.\n",
    "\n",
    "예를 들어 `다대다` 에 대한 모델은 파이토치에서 다음과 같이 구현합니다. 엄밀히 말해서 파이토치는 텐서플로처럼 구현이 간단하지 않습니다. 텐서플로에서는 `keras.layers.SimpleRNN(100, return_sequences=True, name='RNN')` 처럼 `return_sequences=True` 옵션으로 시퀀스를 리턴하도록 쉽게 구현할 수 있습니다. 반면에 파이토치에서는 다음과 같이 문장 번역에서 많이 사용되는 `시퀀스-투-시퀀트(seq 2 seq)` 를 이용하는 방식으로 사용됩니다.\n",
    "\n",
    "```py\n",
    "Seq2Seq(\n",
    "    (encoder) : Encoder(\n",
    "        (embedding) : Embedding(7855, 256)\n",
    "        (rnn) : LSTM(256, 512, num_layer = 2, dropout = 0.5)\n",
    "        (dropout) : Dropout(p=0.5, inplace=False)\n",
    "    )\n",
    "    (decoder) : Decoder(\n",
    "        (embedding) : Embedding(5893, 256)\n",
    "        (rnn) : LSTM(256, 512, num_layer = 2, dropout = 0.5)\n",
    "        (fc_out) : Linear(in_features = 512, out_features=5893, bias = True)\n",
    "        (dropout) : Dropout(p=0.5, inplace=True)\n",
    "    )\n",
    ")\n",
    "```\n",
    "코드를 구조화하면 다음 그림과 같습니다.\n",
    "\n",
    "![](../Static/370_1.jpg)\n",
    "\n"
   ]
  },
  {
   "attachments": {},
   "cell_type": "markdown",
   "metadata": {},
   "source": [
    "* `동기화 다대다` 다대다 유형처럼 입력과 출력이 다수인 구조입니다. 문장에서 다음에 나올 단어를 예측하는 언어 모델, 즉 `프레임 수준의 비디오 분류`가 대표적 사례입니다.\n",
    "\n",
    "다음 그림은 아서 언급된 순환 신경망 구조들을 그림으로 표현한 것입니다.\n",
    "\n",
    "![](../Static/370_2.jpg)"
   ]
  },
  {
   "cell_type": "markdown",
   "metadata": {},
   "source": []
  }
 ],
 "metadata": {
  "language_info": {
   "name": "python"
  },
  "orig_nbformat": 4
 },
 "nbformat": 4,
 "nbformat_minor": 2
}
