{
 "cells": [
  {
   "attachments": {},
   "cell_type": "markdown",
   "metadata": {},
   "source": [
    "## 1D, 2D, 3D 합성곱\n",
    "\n",
    "합성곱은 이동하는 `방향의 수`와 `출력 형태`에 따라 1D, 2D, 3D로 분류할 수 있습니다."
   ]
  },
  {
   "cell_type": "markdown",
   "metadata": {},
   "source": []
  }
 ],
 "metadata": {
  "kernelspec": {
   "display_name": "Python 3",
   "language": "python",
   "name": "python3"
  },
  "language_info": {
   "name": "python",
   "version": "3.9.13 (tags/v3.9.13:6de2ca5, May 17 2022, 16:36:42) [MSC v.1929 64 bit (AMD64)]"
  },
  "orig_nbformat": 4,
  "vscode": {
   "interpreter": {
    "hash": "19b6879aaf09055e7f0053345ceb3c3c499c4119e7409fae66cafd2c5944ead9"
   }
  }
 },
 "nbformat": 4,
 "nbformat_minor": 2
}
