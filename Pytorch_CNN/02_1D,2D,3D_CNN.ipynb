{
 "cells": [
  {
   "attachments": {},
   "cell_type": "markdown",
   "metadata": {},
   "source": [
    "## 1D, 2D, 3D 합성곱\n",
    "\n",
    "합성곱은 이동하는 `방향의 수`와 `출력 형태`에 따라 1D, 2D, 3D로 분류할 수 있습니다."
   ]
  },
  {
   "attachments": {},
   "cell_type": "markdown",
   "metadata": {},
   "source": [
    "## 1D 합성곱\n",
    "\n",
    "1D 합성곱은 `필터`가 시간을 축으로 `좌우로만 이동`할 수 있는 합성곱입니다. 따라서 입력(W)과 필터(K)에 대한 출력은 W가 됩니다. 예를 들어 입력이 [1,1,1,1,1] 이고 필터가 [0.25,0.5,0.25] 라면, 출력은 [1,1,1,1,1]이 됩니다. 즉, 다음 그림과 같이 출력 형태는 1D 배열이 되며, 그래프 곡선을 완화할 때 많이 사용됩니다.\n",
    "\n",
    "![](../Static/177_1.jpg)"
   ]
  },
  {
   "attachments": {},
   "cell_type": "markdown",
   "metadata": {},
   "source": [
    "## 2D 합성곱\n",
    "\n",
    "2D 합성곱은 필터가 다음 그림과 같이 `방향 두 개`로 움직이는 형태입니다. 즉, 입력(W,H)과 필터(K, K)에 대한 출력은 (W, H)가 되며, 출력 형태는 2D 행렬이 됩니다.\n",
    "\n",
    "![](../Static/177_2.jpg)"
   ]
  },
  {
   "attachments": {},
   "cell_type": "markdown",
   "metadata": {},
   "source": [
    "## 3D 합성곱\n",
    "\n",
    "3D 합성곱은 필터가 움직이는 방향이 그림과 같이 `세 개` 있습니다. 입력(W,H,L)에 대해 필터(K,K,D)를 적용하면 출력으로 (W,H,L)을 갖는 형태가 3D 합성곱입니다. 출력은 3D 형태이며, 이때 `D < L` 을 유지하는 것이 중요합니다.\n",
    "\n",
    "![](../Static/178_1.jpg)"
   ]
  },
  {
   "attachments": {},
   "cell_type": "markdown",
   "metadata": {},
   "source": [
    "## 3D 입력을 갖는 2D 합성곱\n",
    "\n",
    "입력이 (224x224x3, 112x112x32)와 같은 3D 형태임에도 출력 형태가 3D가 아닌 2D 행렬을 취하는 것이 `3D 입력을 갖는 2D 합성곱`입니다. 이것은 필터에 대한 길이(L)가 입력 채널의 길이(L)와 같아야 하기 때문에 이와 같은 합성곱 형태가 만들어집니다. 즉, `입력(W,H,L)`에 `필터(K,K,L)` (inputL == kernelL)를 적용하면 출력은 (W,H)가 됩니다. 이때 필터는 다음 그림과 같이 두 방향으로 움직이며 출력 형태는 2D 행렬이 됩니다.\n",
    "\n",
    "3D 입력을 갖는 2D 합성곱의 대표적인 사례로는 LeNet-5와 VGG가 있습니다.\n",
    "\n",
    "![](../Static/178_2.jpg)"
   ]
  },
  {
   "attachments": {},
   "cell_type": "markdown",
   "metadata": {},
   "source": [
    "## 1 x 1 합성곱\n",
    "\n",
    "1 x 1 합성곱은 3D 형태로 입력됩니다. 즉, `입력(W,H,L)`에 `필터(1,1,L)`를 적용하면 출력은 (W,H)가 됩니다. 1X1 합성곱에서 채널 수를 조정해서 연산량이 감소되는 효과가 있으며, 대표적 사례로는 GoogleNet이 있습니다.\n",
    "\n",
    "![](../Static/179.jpg)"
   ]
  },
  {
   "cell_type": "markdown",
   "metadata": {},
   "source": []
  }
 ],
 "metadata": {
  "kernelspec": {
   "display_name": "Python 3",
   "language": "python",
   "name": "python3"
  },
  "language_info": {
   "name": "python",
   "version": "3.9.13 (tags/v3.9.13:6de2ca5, May 17 2022, 16:36:42) [MSC v.1929 64 bit (AMD64)]"
  },
  "orig_nbformat": 4,
  "vscode": {
   "interpreter": {
    "hash": "19b6879aaf09055e7f0053345ceb3c3c499c4119e7409fae66cafd2c5944ead9"
   }
  }
 },
 "nbformat": 4,
 "nbformat_minor": 2
}
