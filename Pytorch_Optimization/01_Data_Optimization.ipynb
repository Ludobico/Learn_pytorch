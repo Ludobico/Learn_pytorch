{
 "cells": [
  {
   "attachments": {},
   "cell_type": "markdown",
   "metadata": {},
   "source": [
    "## 데이터를 이용한 성능 최적화\n",
    "\n",
    "데이터를 사용한 성능 최적화 방법은 `많은 데이터를 수집`하는 것입니다. 하지만 데이터 수집이 여의치 않은 상황에서는 임의로 데이터를 생성하는 방법도 고려해 볼 수 있습니다.\n",
    "\n",
    "* 최대한 많은 데이터 수집하기 : 일반적으로 딥러닝이나 머신 러닝 알고리즘은 데이터양이 많을수록 성능이 좋습니다. 따라서 가능한 많은 데이터(빅데이터)를 수집해야 합니다.\n",
    "\n",
    "![](../Static/442.jpg)\n",
    "\n",
    "* 데이터 생성하기 : 많은 데이터를 수집할 수 없다면 데이터를 만들어 사용할 수 있습니다. 여기에선 이미지 조작에 대한 코드를 참조하면 됩니다.\n",
    "\n",
    "* 데이터 범위(scale) 조정하기 : 활성화 함수로 시그모이드를 사용한다면 데이터셋 범위를 0~1의 값을 갖도록 하고, 하이퍼볼릭 탄젠트를 사용한다면 데이터셋 범위를 -1 ~ 1의 값을 갖도록 조정할 수 있습니다.\n",
    "\n",
    "또한, 정규화, 규제화, 표준화도 성능 향상에 도움이 됩니다."
   ]
  },
  {
   "cell_type": "markdown",
   "metadata": {},
   "source": []
  }
 ],
 "metadata": {
  "kernelspec": {
   "display_name": "venv",
   "language": "python",
   "name": "python3"
  },
  "language_info": {
   "name": "python",
   "version": "3.9.13"
  },
  "orig_nbformat": 4,
  "vscode": {
   "interpreter": {
    "hash": "9ba10514d92c171690b73ca0a9c097f69f78d6fa5f41507cb6917f0a9599880a"
   }
  }
 },
 "nbformat": 4,
 "nbformat_minor": 2
}
