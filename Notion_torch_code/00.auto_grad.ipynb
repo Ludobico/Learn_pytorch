{
 "cells": [
  {
   "cell_type": "code",
   "execution_count": 4,
   "metadata": {},
   "outputs": [
    {
     "name": "stdout",
     "output_type": "stream",
     "text": [
      "tensor([2., 4., 6., 8.])\n"
     ]
    }
   ],
   "source": [
    "import torch\n",
    "\n",
    "# 입력 텐서 생성\n",
    "x = torch.tensor([1., 2., 3., 4.], requires_grad=True)\n",
    "\n",
    "# 계산 그래프 정의\n",
    "y = torch.square(x).sum()\n",
    "\n",
    "# y를 기준으로 역전파 수행\n",
    "y.backward()\n",
    "\n",
    "# x의 gradient 출력\n",
    "print(x.grad)"
   ]
  },
  {
   "cell_type": "code",
   "execution_count": 2,
   "metadata": {},
   "outputs": [
    {
     "name": "stdout",
     "output_type": "stream",
     "text": [
      "tensor([2., 4., 6., 8.])\n"
     ]
    }
   ],
   "source": [
    "import torch\n",
    "from torch.autograd import Variable\n",
    "\n",
    "# 입력 텐서 생성\n",
    "x = Variable(torch.tensor([1., 2., 3., 4.]), requires_grad=True)\n",
    "\n",
    "# 계산 그래프 정의\n",
    "y = torch.square(x).sum()\n",
    "\n",
    "# y를 기준으로 역전파 수행\n",
    "y.backward()\n",
    "\n",
    "# x의 gradient 출력\n",
    "print(x.grad)"
   ]
  },
  {
   "cell_type": "code",
   "execution_count": null,
   "metadata": {},
   "outputs": [],
   "source": []
  }
 ],
 "metadata": {
  "kernelspec": {
   "display_name": "venv",
   "language": "python",
   "name": "python3"
  },
  "language_info": {
   "codemirror_mode": {
    "name": "ipython",
    "version": 3
   },
   "file_extension": ".py",
   "mimetype": "text/x-python",
   "name": "python",
   "nbconvert_exporter": "python",
   "pygments_lexer": "ipython3",
   "version": "3.9.13"
  },
  "orig_nbformat": 4
 },
 "nbformat": 4,
 "nbformat_minor": 2
}
