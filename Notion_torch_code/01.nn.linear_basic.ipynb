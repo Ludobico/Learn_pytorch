{
 "cells": [
  {
   "cell_type": "code",
   "execution_count": 4,
   "metadata": {},
   "outputs": [],
   "source": [
    "import torch\n",
    "import torch.nn as nn\n",
    "\n",
    "linear_layer = nn.Linear(10, 5)"
   ]
  },
  {
   "cell_type": "code",
   "execution_count": 5,
   "metadata": {},
   "outputs": [
    {
     "name": "stdout",
     "output_type": "stream",
     "text": [
      "Linear(in_features=10, out_features=5, bias=True)\n"
     ]
    }
   ],
   "source": [
    "print(linear_layer)"
   ]
  },
  {
   "attachments": {},
   "cell_type": "markdown",
   "metadata": {},
   "source": [
    "## 모델의 가중치 및 편향 출력"
   ]
  },
  {
   "cell_type": "code",
   "execution_count": 8,
   "metadata": {},
   "outputs": [
    {
     "name": "stdout",
     "output_type": "stream",
     "text": [
      "Parameter containing:\n",
      "tensor([[ 0.3141, -0.2540,  0.3141,  0.0962,  0.2490,  0.2632,  0.2738,  0.0862,\n",
      "         -0.1271,  0.1409],\n",
      "        [ 0.1065, -0.2876, -0.1818, -0.2945,  0.2812, -0.0003, -0.3080, -0.1039,\n",
      "          0.2664, -0.1676],\n",
      "        [-0.2774,  0.1540,  0.1964, -0.2291,  0.1545,  0.1771, -0.2263, -0.2851,\n",
      "          0.3123,  0.0316],\n",
      "        [-0.0835, -0.1175,  0.0532, -0.2119, -0.0872,  0.3079,  0.1731,  0.2629,\n",
      "          0.3054, -0.2553],\n",
      "        [-0.0056, -0.2959,  0.1369,  0.2412,  0.0473,  0.1122,  0.0225, -0.0414,\n",
      "         -0.0086,  0.0327]], requires_grad=True)\n",
      "Parameter containing:\n",
      "tensor([-0.1247,  0.2125, -0.0370, -0.2882, -0.1801], requires_grad=True)\n"
     ]
    }
   ],
   "source": [
    "import torch\n",
    "import torch.nn as nn\n",
    "\n",
    "linear_model = nn.Linear(10,5)\n",
    "# 모델의 가중치 행렬 출력\n",
    "print(linear_model.weight)\n",
    "\n",
    "# 모델의 편향 벡터 출력\n",
    "print(linear_model.bias)"
   ]
  },
  {
   "cell_type": "code",
   "execution_count": null,
   "metadata": {},
   "outputs": [],
   "source": []
  }
 ],
 "metadata": {
  "kernelspec": {
   "display_name": "venv",
   "language": "python",
   "name": "python3"
  },
  "language_info": {
   "codemirror_mode": {
    "name": "ipython",
    "version": 3
   },
   "file_extension": ".py",
   "mimetype": "text/x-python",
   "name": "python",
   "nbconvert_exporter": "python",
   "pygments_lexer": "ipython3",
   "version": "3.9.13"
  },
  "orig_nbformat": 4
 },
 "nbformat": 4,
 "nbformat_minor": 2
}
