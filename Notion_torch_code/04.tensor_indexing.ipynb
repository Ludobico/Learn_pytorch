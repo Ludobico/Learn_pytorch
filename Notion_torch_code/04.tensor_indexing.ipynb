{
 "cells": [
  {
   "cell_type": "code",
   "execution_count": 6,
   "metadata": {},
   "outputs": [
    {
     "name": "stdout",
     "output_type": "stream",
     "text": [
      "tensor([0.7609, 0.1998, 0.2577, 0.8797, 0.1056, 0.7426, 0.2801, 0.0139, 0.9657,\n",
      "        0.2904, 0.0305, 0.4417, 0.9692, 0.1410, 0.5157])\n",
      "tensor([0.2577, 0.8797, 0.1056, 0.7426, 0.2801, 0.0139, 0.9657, 0.2904, 0.0305,\n",
      "        0.4417, 0.9692, 0.1410, 0.5157])\n"
     ]
    }
   ],
   "source": [
    "import torch\n",
    "x = torch.rand(15)\n",
    "print(x)\n",
    "print(x[2:])"
   ]
  },
  {
   "cell_type": "code",
   "execution_count": 30,
   "metadata": {},
   "outputs": [
    {
     "name": "stdout",
     "output_type": "stream",
     "text": [
      "tensor([[ 0.9992,  0.1180, -1.8617, -0.6896, -0.1249],\n",
      "        [ 1.6253,  1.0461, -1.2190,  2.0096, -0.1222],\n",
      "        [ 0.4819,  1.1721,  1.6283,  0.9586,  0.5938],\n",
      "        [ 1.8138, -0.4025, -1.1225, -0.2365, -0.6164],\n",
      "        [-0.2785, -0.0611, -0.3382, -0.4430,  0.0557],\n",
      "        [-0.0643,  0.2405, -0.7107, -0.8943, -1.7230]])\n",
      "tensor([[ 0.9992, -1.8617, -0.1249],\n",
      "        [ 0.4819,  1.6283,  0.5938],\n",
      "        [-0.2785, -0.3382,  0.0557]])\n"
     ]
    }
   ],
   "source": [
    "import torch\n",
    "x = torch.randn((6,5))\n",
    "print(x)\n",
    "print(x[::2, ::2])"
   ]
  },
  {
   "cell_type": "code",
   "execution_count": null,
   "metadata": {},
   "outputs": [],
   "source": []
  }
 ],
 "metadata": {
  "kernelspec": {
   "display_name": "venv",
   "language": "python",
   "name": "python3"
  },
  "language_info": {
   "codemirror_mode": {
    "name": "ipython",
    "version": 3
   },
   "file_extension": ".py",
   "mimetype": "text/x-python",
   "name": "python",
   "nbconvert_exporter": "python",
   "pygments_lexer": "ipython3",
   "version": "3.9.13"
  },
  "orig_nbformat": 4
 },
 "nbformat": 4,
 "nbformat_minor": 2
}
