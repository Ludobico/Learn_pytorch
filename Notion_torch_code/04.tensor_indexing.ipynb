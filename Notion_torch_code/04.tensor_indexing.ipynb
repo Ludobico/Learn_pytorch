{
 "cells": [
  {
   "cell_type": "code",
   "execution_count": 6,
   "metadata": {},
   "outputs": [
    {
     "name": "stdout",
     "output_type": "stream",
     "text": [
      "tensor([0.7609, 0.1998, 0.2577, 0.8797, 0.1056, 0.7426, 0.2801, 0.0139, 0.9657,\n",
      "        0.2904, 0.0305, 0.4417, 0.9692, 0.1410, 0.5157])\n",
      "tensor([0.2577, 0.8797, 0.1056, 0.7426, 0.2801, 0.0139, 0.9657, 0.2904, 0.0305,\n",
      "        0.4417, 0.9692, 0.1410, 0.5157])\n"
     ]
    }
   ],
   "source": [
    "import torch\n",
    "x = torch.rand(15)\n",
    "print(x)\n",
    "print(x[2:])"
   ]
  },
  {
   "cell_type": "code",
   "execution_count": 25,
   "metadata": {},
   "outputs": [
    {
     "name": "stdout",
     "output_type": "stream",
     "text": [
      "tensor([[-0.5209,  0.4243,  0.1540, -0.7814, -1.7005],\n",
      "        [-0.3191,  0.8843, -0.8301,  0.7414,  0.1033],\n",
      "        [ 0.7716, -0.5891, -0.0888, -1.7860, -0.6578],\n",
      "        [-1.3299,  0.5717,  0.9497, -0.3050,  0.4296],\n",
      "        [ 1.7669,  1.1072,  0.0752,  0.9620,  0.0327],\n",
      "        [ 0.3993,  1.0661,  1.3593, -1.5693,  0.2993]])\n",
      "tensor([[-0.3191, -0.8301],\n",
      "        [-1.3299,  0.9497]])\n"
     ]
    }
   ],
   "source": [
    "import torch\n",
    "x = torch.randn((6,5))\n",
    "print(x)\n",
    "print(x[1:5:2, 0:4:2])"
   ]
  },
  {
   "cell_type": "code",
   "execution_count": null,
   "metadata": {},
   "outputs": [],
   "source": []
  }
 ],
 "metadata": {
  "kernelspec": {
   "display_name": "venv",
   "language": "python",
   "name": "python3"
  },
  "language_info": {
   "codemirror_mode": {
    "name": "ipython",
    "version": 3
   },
   "file_extension": ".py",
   "mimetype": "text/x-python",
   "name": "python",
   "nbconvert_exporter": "python",
   "pygments_lexer": "ipython3",
   "version": "3.9.13"
  },
  "orig_nbformat": 4
 },
 "nbformat": 4,
 "nbformat_minor": 2
}
