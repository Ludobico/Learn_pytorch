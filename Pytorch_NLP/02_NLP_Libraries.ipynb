{
 "cells": [
  {
   "attachments": {},
   "cell_type": "markdown",
   "metadata": {},
   "source": [
    "## 자연어 처리를 위한 라이브러리\n",
    "\n",
    "### NLTK\n",
    "NLTK(Natural Language Toolkit)는 교육용으로 개발된 자연어 처리 및 문서 분석용 파이썬 라이브러리입니다. 다양한 기능 및 예제를 가지고 있으며 실무 및 연구에서도 많이 사용되고 있습니다.\n",
    "\n",
    "다음은 NLTK 라이브러리가 제공하는 주요 기능입니다.\n",
    "\n",
    "* 말뭉치\n",
    "* 토큰 생성\n",
    "* 형태소 분석\n",
    "* 품사 태깅\n",
    "\n",
    "설치한 NLTK 라이브러리를 이용하여 예제를 살펴보겠습니다."
   ]
  },
  {
   "cell_type": "code",
   "execution_count": 3,
   "metadata": {},
   "outputs": [
    {
     "name": "stdout",
     "output_type": "stream",
     "text": [
      "['my', 'favorite', 'subject', 'is', 'math']\n",
      "['my', 'favorite', 'subject', 'is', 'math', ',', 'english', ',', 'economic', 'and', 'computer', 'science']\n"
     ]
    },
    {
     "name": "stderr",
     "output_type": "stream",
     "text": [
      "[nltk_data] Downloading package punkt to\n",
      "[nltk_data]     C:\\Users\\aqs45\\AppData\\Roaming\\nltk_data...\n",
      "[nltk_data]   Package punkt is already up-to-date!\n"
     ]
    }
   ],
   "source": [
    "import nltk\n",
    "\n",
    "nltk.download('punkt') # 문장을 단어로 쪼개기 위한 자원 내려받기\n",
    "string1 = 'my favorite subject is math'\n",
    "string2 = 'my favorite subject is math, english, economic and computer science'\n",
    "\n",
    "token1 = nltk.word_tokenize(string1)\n",
    "token2 = nltk.word_tokenize(string2)\n",
    "\n",
    "print(token1)\n",
    "print(token2)"
   ]
  },
  {
   "attachments": {},
   "cell_type": "markdown",
   "metadata": {},
   "source": [
    "### KoNLPy\n",
    "\n",
    "KoNLPy(코엔엘파이라고 읽음)는 한국어 처리를 위한 파이썬 라이브러리입니다. KoNLPy는 파이썬에서 사용할 수 있는 오픈 소스 형태소 분석기로, 기존에 공개된 꼬꼬마(kkma), 코모란(komoran), 한나눔(Hannanum), 트위터(twitter), 메카브(Mecab) 분석기를 한 번에 설치하고 동일한 방법으로 사용할 수 있도록 해 줍니다.\n",
    "\n",
    "#### 윈도우 환경에서 KoNLPy 설치 방법\n",
    "1. KoNLPy를 설치하기 전에 `oracle JDK`를 설치해야 합니다(KoNLPy 공식 사이트에서는 oracle jdk를 설치하는 것을 권고하고 있으며, 해당 파일으 내려받을 수 있는 url을 제시합니다.) 다음 url에 접속합니다.\n",
    "\n",
    "https://www.oracle.com/java/technologies/javase-downloads.html\n",
    "\n",
    "2. Oracle JDK 하위의 다운로드를 누릅니다.\n",
    "\n",
    "3. 버전에 맞는 `installer`를 선택합니다.\n",
    "\n",
    "4. 다음 url에서 `JPype1`을 내려받아 설치합니다. 이때 64비트 윈도우는 win-amd64, 32비트 윈도우는 win32 라고 표시된 파일을 내려받아야합니다.\n",
    "\n",
    "https://www.lfd.uci.edu/~gohlke/pythonlibs/#jpype\n",
    "\n",
    "5. 아나콘다 프롬프트에서 tf_2book 가상 환경으로 접속한 후 내려받은 JPype1 파일을 설치합니다. 이때 내려받은 파일의 경로까지 모두 적어야 합니다.\n",
    "\n",
    "> pip install JPype1-1.4.0-cp39-cp39-win_amd64.whl\n",
    "\n",
    "6. KoNLPy를 설치합니다.\n",
    "\n",
    "> pip install konlpy\n",
    "\n",
    "\n",
    "설치가 완료되었으니, 예제를 살펴보겠습니다."
   ]
  },
  {
   "cell_type": "code",
   "execution_count": 1,
   "metadata": {},
   "outputs": [
    {
     "name": "stdout",
     "output_type": "stream",
     "text": [
      "True\n"
     ]
    }
   ],
   "source": [
    "import os\n",
    "print('JAVA_HOME' in os.environ)"
   ]
  },
  {
   "cell_type": "code",
   "execution_count": 6,
   "metadata": {},
   "outputs": [
    {
     "name": "stdout",
     "output_type": "stream",
     "text": [
      "javadir  : C:\\Users\\aqs45\\OneDrive\\바탕 화면\\repo\\Learn_pytorch\\venv\\Lib\\site-packages\\konlpy\\java\n",
      "os.sep   : \\\n",
      "classpath: C:\\Users\\aqs45\\OneDrive\\바탕 화면\\repo\\Learn_pytorch\\venv\\Lib\\site-packages\\konlpy\\java\\open-korean-text-2.1.0.jar\n"
     ]
    }
   ],
   "source": [
    "import os\n",
    "from konlpy import utils\n",
    "\n",
    "\n",
    "javadir = '%s%sjava' % (utils.installpath, os.sep)\n",
    "args = [javadir, os.sep]\n",
    "folder_suffix = ['{0}{1}open-korean-text-2.1.0.jar']\n",
    "classpath = [f.format(*args) for f in folder_suffix]\n",
    "\n",
    "print('javadir  : {}'.format(javadir))\n",
    "print('os.sep   : {}'.format(os.sep))\n",
    "print('classpath: {}'.format(classpath[0]))\n"
   ]
  },
  {
   "cell_type": "code",
   "execution_count": 7,
   "metadata": {},
   "outputs": [
    {
     "ename": "AttributeError",
     "evalue": "Java package 'kr.co.shineware.nlp.komoran.core' is not valid",
     "output_type": "error",
     "traceback": [
      "\u001b[1;31m---------------------------------------------------------------------------\u001b[0m",
      "\u001b[1;31mAttributeError\u001b[0m                            Traceback (most recent call last)",
      "Cell \u001b[1;32mIn[7], line 2\u001b[0m\n\u001b[0;32m      1\u001b[0m \u001b[39mfrom\u001b[39;00m \u001b[39mkonlpy\u001b[39;00m\u001b[39m.\u001b[39;00m\u001b[39mtag\u001b[39;00m \u001b[39mimport\u001b[39;00m Komoran\n\u001b[1;32m----> 2\u001b[0m komoran \u001b[39m=\u001b[39m Komoran()\n\u001b[0;32m      3\u001b[0m \u001b[39mprint\u001b[39m(komoran\u001b[39m.\u001b[39mmorphs(\u001b[39m'\u001b[39m\u001b[39m딥러닝이 쉽나요? 어렵나요?\u001b[39m\u001b[39m'\u001b[39m)) \u001b[39m# 텍스트를 형태소로 반환\u001b[39;00m\n\u001b[0;32m      5\u001b[0m \u001b[39m# 파이썬 버전 및 자바버전 문제로 실행안됨\u001b[39;00m\n",
      "File \u001b[1;32mc:\\Users\\aqs45\\OneDrive\\바탕 화면\\repo\\Learn_pytorch\\venv\\lib\\site-packages\\konlpy\\tag\\_komoran.py:69\u001b[0m, in \u001b[0;36mKomoran.__init__\u001b[1;34m(self, jvmpath, userdic, modelpath, max_heap_size)\u001b[0m\n\u001b[0;32m     66\u001b[0m komoranJavaPackage \u001b[39m=\u001b[39m jpype\u001b[39m.\u001b[39mJPackage(\u001b[39m'\u001b[39m\u001b[39mkr.co.shineware.nlp.komoran.core\u001b[39m\u001b[39m'\u001b[39m)\n\u001b[0;32m     68\u001b[0m \u001b[39mtry\u001b[39;00m:\n\u001b[1;32m---> 69\u001b[0m     \u001b[39mself\u001b[39m\u001b[39m.\u001b[39mjki \u001b[39m=\u001b[39m komoranJavaPackage\u001b[39m.\u001b[39;49mKomoran(\u001b[39mself\u001b[39m\u001b[39m.\u001b[39mmodelpath)\n\u001b[0;32m     70\u001b[0m \u001b[39mexcept\u001b[39;00m \u001b[39mTypeError\u001b[39;00m:  \u001b[39m# Package kr.lucypark.komoran.KomoranInterface is not Callable\u001b[39;00m\n\u001b[0;32m     71\u001b[0m     \u001b[39mraise\u001b[39;00m \u001b[39mIOError\u001b[39;00m(\u001b[39m\"\u001b[39m\u001b[39mCannot access komoran-dic. Please leave an issue at https://github.com/konlpy/konlpy/issues\u001b[39m\u001b[39m\"\u001b[39m)\n",
      "\u001b[1;31mAttributeError\u001b[0m: Java package 'kr.co.shineware.nlp.komoran.core' is not valid"
     ]
    }
   ],
   "source": [
    "from konlpy.tag import Komoran\n",
    "komoran = Komoran()\n",
    "print(komoran.morphs('딥러닝이 쉽나요? 어렵나요?')) # 텍스트를 형태소로 반환\n",
    "\n",
    "# 파이썬 버전 및 자바버전 문제로 실행안됨"
   ]
  },
  {
   "cell_type": "markdown",
   "metadata": {},
   "source": []
  },
  {
   "attachments": {},
   "cell_type": "markdown",
   "metadata": {},
   "source": [
    "KoNLPy에서 제공하는 주요 기능은 다음과 같습니다.\n",
    "* 형태소 분석\n",
    "* 품사 태깅\n",
    "\n",
    "형태소는 언어를 쪼갤 때 의미를 가지는 최소 단위입니다. 다음 그림은 형태소 분석을 위한 단계를 도식화한 것입니다.\n",
    "\n",
    "![](../Static/517.jpg)\n",
    "\n",
    "\n",
    "### Gensim\n",
    "Gensim은 파이썬에서 제공하는 워드투벡터(word2vec) 라이브러리입니다. 딥러닝 라이브러리는 아니지만 효율적이고 확장 가능하기 때문에 폭넓게 사용하고 있습니다.\n",
    "\n",
    "다음은 Gensim에서 제공하는 ㅈ요 기능입니다.\n",
    "\n",
    "* 임베딩 : 워드투벡터\n",
    "* 토픽 모델링\n",
    "* LDA(Latent Dirichlet Allocation)\n",
    "\n",
    "Gensim을 사용하려면 다음 명령으로 먼저 설치해야 합니다.\n",
    "> pip install gensim\n",
    "\n",
    "### 사이킷런\n",
    "사이킷런(scikit-learn)은 파이썬을 이용하여 문서를 전처리할 수 있는 라이브러리를 제공합니다. 특히 자연어 처리에서 특성 추출 용도로 많이 사용됩니다.\n",
    "\n",
    "다음은 사이킷런에서 제공하는 주요 기능입니다.\n",
    "\n",
    "* countVectorizer : 텍스트에서 단어의 등장 횟수를 기준으로 특성을 추출합니다.\n",
    "\n",
    "* Tfidvectorizer : TF-IDF 값을 사용해서 텍스트에서 특성을 추출합니다.\n",
    "\n",
    "* HashingVectorizer : countVectorizer와 방법이 동일하지만 텍스트를 처리할 때 해시 함수를 사용하기 때문에 실행 시간이 감소합니다."
   ]
  },
  {
   "cell_type": "markdown",
   "metadata": {},
   "source": []
  }
 ],
 "metadata": {
  "kernelspec": {
   "display_name": "venv",
   "language": "python",
   "name": "python3"
  },
  "language_info": {
   "codemirror_mode": {
    "name": "ipython",
    "version": 3
   },
   "file_extension": ".py",
   "mimetype": "text/x-python",
   "name": "python",
   "nbconvert_exporter": "python",
   "pygments_lexer": "ipython3",
   "version": "3.9.13"
  },
  "orig_nbformat": 4,
  "vscode": {
   "interpreter": {
    "hash": "9ba10514d92c171690b73ca0a9c097f69f78d6fa5f41507cb6917f0a9599880a"
   }
  }
 },
 "nbformat": 4,
 "nbformat_minor": 2
}
