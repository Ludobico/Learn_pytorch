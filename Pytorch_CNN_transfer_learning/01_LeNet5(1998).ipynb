{
 "cells": [
  {
   "attachments": {},
   "cell_type": "markdown",
   "metadata": {},
   "source": [
    "## LeNet-5\n",
    "LeNet-5를 사용하는 예제를 구현해 봅시다. 우리가 구현할 신경망은 다음 그림과 같습니다.\n",
    "\n",
    "![](../Static/247.jpg)\n",
    "\n",
    "32x32 크기의 이미지에 합성곱층과 최대 풀링층이 쌍으로 두 번 적용된 후 완전연결층을 거쳐 이미지가 분류되는 신경망입니다.\n",
    "\n",
    "신경망에 대한 자세한 설명은 다음 표와 같습니다.\n",
    "\n",
    "|계층 유형|특성 맵|크기|커널 크기|스트라이드|활성화 함수|\n",
    "|---|---|---|---|---|---|\n",
    "|이미지|1|32x32|-|-|-|\n",
    "|합성곱층|6|28x28|5x5|1|렐루|\n",
    "|최대 풀링층|6|14x14|2x2|2|-|\n",
    "|합성곱층|16|10x10|5x5|1|렐루|\n",
    "|최대 풀링층|16|5x5|2x2|2|-|\n",
    "|완전연결층|-|120|-|-|렐루|\n",
    "|완전연결층|-|84|-|-|렐루|\n",
    "|완전연결층|-|2|-|-|소프트맥스|"
   ]
  },
  {
   "attachments": {},
   "cell_type": "markdown",
   "metadata": {},
   "source": [
    "예제를 진행하기 위해 프롬프트에서 `tqdm` 라이브러리를 설치해 주세요. 라이브러리는 다음과 같이 두 가지 방법으로 설치할 수 있습니다.\n",
    "\n",
    "> pip install tqdm\n",
    "\n",
    "> conda install -c conda-forge tqdm\n",
    "\n",
    "tqdm은 아랍어로 progress(진행 상태)라고도 합니다. 즉, 진행 상태를 바(bar) 형태로 가시화하여 보여 줍니다. 주로 `모델 훈련에 대한 진행 상태`를 확인하고자 할 때 사용합니다.\n",
    "\n",
    "설치가 완료되었다면 필요한 라이브러리를 호출합니다."
   ]
  },
  {
   "cell_type": "code",
   "execution_count": 18,
   "metadata": {},
   "outputs": [
    {
     "name": "stdout",
     "output_type": "stream",
     "text": [
      "cuda\n"
     ]
    }
   ],
   "source": [
    "import torch\n",
    "import torchvision\n",
    "\n",
    "from torch.utils.data import dataset, DataLoader\n",
    "import torchvision.transforms as transforms # 이미지 변환(전처리) 기능을 제공하는 라이브러리\n",
    "import torchvision.datasets as datasets\n",
    "from torch.autograd import Variable\n",
    "import torch.optim as optim\n",
    "\n",
    "import torch.nn as nn\n",
    "import torch.nn.functional as F\n",
    "\n",
    "import os\n",
    "import cv2\n",
    "\n",
    "from PIL import Image\n",
    "from tqdm import tqdm_notebook as tqdm # 진행 상황을 가시적으로 표현\n",
    "\n",
    "import random\n",
    "import matplotlib.pyplot as plt\n",
    "\n",
    "device = torch.device('cuda' if torch.cuda.is_available() else 'cpu')\n",
    "print(device)"
   ]
  },
  {
   "attachments": {},
   "cell_type": "markdown",
   "metadata": {},
   "source": [
    "먼저 모델 학습에 필요한 데이터셋의 전처리(텐서 변환)이 필요합니다."
   ]
  },
  {
   "cell_type": "code",
   "execution_count": 19,
   "metadata": {},
   "outputs": [],
   "source": [
    "train_data_dir = './seg_train/seg_train'\n",
    "test_data_dir = './seg_test/seg_test'\n",
    "batch_size = 32\n",
    "\n",
    "transform = transforms.Compose(\n",
    "    [transforms.Resize(64),\n",
    "     transforms.CenterCrop(64),\n",
    "     transforms.ToTensor(),\n",
    "     transforms.Normalize((0.5, 0.5, 0.5), (0.5, 0.5, 0.5), inplace=True)])\n",
    "\n",
    "train_dataset = datasets.ImageFolder(train_data_dir,\n",
    "                                     transform=transform)\n",
    "\n",
    "train_dataloader = torch.utils.data.DataLoader(train_dataset,\n",
    "                                               batch_size=batch_size,\n",
    "                                               shuffle=True,\n",
    "                                               drop_last=True)\n",
    "\n",
    "test_dataset = datasets.ImageFolder(test_data_dir,\n",
    "                                    transform=transform)\n",
    "\n",
    "test_dataloader = torch.utils.data.DataLoader(test_dataset,\n",
    "                                              batch_size=batch_size,\n",
    "                                              shuffle=False,\n",
    "                                              drop_last=True)\n"
   ]
  },
  {
   "attachments": {},
   "cell_type": "markdown",
   "metadata": {},
   "source": [
    "* `토치비전(torchvision)` 라이브러리를 이용하면 이미지에 대한 전처리를 손쉽게 할 수 있습니다. `torchvision.transforms` 에서 사용하는 파라미터는 다음과 같습니다.\n",
    "    * `transforms.Compose` 이미지를 변형할 수 있는 방식들의 묶음입니다.\n",
    "    * `transforms.RandomResizedCrop` 입력 이미지를 주어진크기(resize:224x224)로 조정합니다. 또한, `scale`은 원래 이미지를 임의의 크기(0.5~1.0) 만큼 면적을 무작위로 자르겠다는 의미입니다.\n",
    "    * `transforms.RandomHorizontalFlip` 주어진 확률로 이미지를 수평 반전시킵니다. 이때 확률 값을 지정하지 않았으므로 기본값인 0.5의 확률로 이미지들이 수평 반전됩ㄴ다. 즉, 훈련 이미지 중 반은 위아래 뒤집한 상태로 두고, 반은 그대로 사용합니다.\n",
    "    * `transforms.ToTensor()` ImageFolder 메서드를 비롯해서 torchvision 메서드는 이미지를 읽을 때 파이썬 이미지 라이브러리인 PIL을 사용합니다. PIL을 사용해서 이미지를 읽으면 생성되는 이미지는 범위가 [0,255]이며, 배열의 차원이 `(높이 H x 너비 W x 채널 수 C)`로 표현됩니다. 이후 효율적인 연산을 위해 `torch.FloatTensor` 배열로 바꾸어야 하는데, 이때 픽셀 값의 범위는 [0.0, 1.0] 사이가 되고 차원의 순서도 `(채널 수 C x 높이 H x 너비 W)`로 바뀝니다. 그리고 이러한 작업을 수행해 주는 메서드가 `ToTensor()`입니다.\n",
    "    * `transforms.Normalize` 전이 학습에서 사용되는 사전 훈련된 모델들은 대게 `ImageNet 데이터셋`에서 훈련되었습니다. 따라서 사전 훈련된 모델을 사용하기 위해서는 ImageNet 데이터의 각 채널별 평균과 표준편차에 맞는 `정규화(Normalize)`를 해 주어야 합니다. 참고로 openCV를 사용해서 이미지를 읽어 온다면 RGB이미지가 아닌 BGR 이미지이므로 채널 순서에 주의해야 합니다.\n",
    "\n",
    "* `__call__` 함수는 클래스를 호출할 수 있도록 하는 메서드입니다. __init__은 인스턴스 초기화를 위해 사용한다면 __call__은 인스턴스가 호출되었을 때 실행됩니다. 즉, 클래스에 __call__ 함수가 있을 경우 클래스 객체 자체를 호출하면 __call__함수의 리턴(return) 값이 반환됩니다.\n",
    "\n",
    "이미지가 위치한 디렉터리에서 불러옵니다."
   ]
  },
  {
   "cell_type": "code",
   "execution_count": 20,
   "metadata": {},
   "outputs": [
    {
     "name": "stdout",
     "output_type": "stream",
     "text": [
      "Number of samples:  32\n",
      "Image Size:  torch.Size([32, 3, 64, 64])\n",
      "tensor([2, 4, 2, 1, 5, 4, 4, 3, 5, 0, 3, 3, 1, 4, 5, 5, 2, 5, 1, 2, 4, 1, 0, 1,\n",
      "        0, 2, 0, 5, 4, 4, 5, 4])\n"
     ]
    },
    {
     "data": {
      "image/png": "[encoded data removed]",
      "text/plain": [
       "<Figure size 640x480 with 1 Axes>"
      ]
     },
     "metadata": {},
     "output_type": "display_data"
    }
   ],
   "source": [
    "images, labels = next(iter(train_dataloader))\n",
    "\n",
    "print('Number of samples: ', len(images))\n",
    "\n",
    "image = images[2][0]\n",
    "plt.imshow(image, cmap='gray')\n",
    "\n",
    "print(\"Image Size: \", images.shape)\n",
    "\n",
    "print(labels)\n"
   ]
  },
  {
   "attachments": {},
   "cell_type": "markdown",
   "metadata": {},
   "source": [
    "이제 데이터셋을 학습시킬 모델의 네트워크를 설계하기 위한 클래스를 생성합니다."
   ]
  },
  {
   "cell_type": "code",
   "execution_count": 21,
   "metadata": {},
   "outputs": [],
   "source": [
    "class CNN(nn.Module):\n",
    "    def __init__(self):\n",
    "        super(CNN, self).__init__()\n",
    "        self.conv1 = nn.Conv2d(\n",
    "            in_channels=3, out_channels=64, kernel_size=3, padding=1, stride=1)\n",
    "        self.conv2 = nn.Conv2d(\n",
    "            in_channels=64, out_channels=128, kernel_size=3, padding=1, stride=1)\n",
    "        self.conv3 = nn.Conv2d(\n",
    "            in_channels=128, out_channels=256, kernel_size=3, padding=1, stride=1)\n",
    "        self.conv4 = nn.Conv2d(\n",
    "            in_channels=256, out_channels=512, kernel_size=3, padding=1, stride=1)\n",
    "\n",
    "        self.pool = nn.MaxPool2d(kernel_size=2)\n",
    "\n",
    "        self.fc1 = nn.Linear(in_features=512 * 4 * 4, out_features=128)\n",
    "        self.fc2 = nn.Linear(in_features=128, out_features=6)\n",
    "\n",
    "        self.dropout = nn.Dropout(0.25)\n",
    "\n",
    "    def forward(self, x):\n",
    "        x = self.pool(F.relu(self.conv1(x)))\n",
    "        x = self.pool(F.relu(self.conv2(x)))\n",
    "        x = self.pool(F.relu(self.conv3(x)))\n",
    "        x = self.pool(F.relu(self.conv4(x)))\n",
    "\n",
    "        x = x.view(x.size(0), -1)\n",
    "\n",
    "        x = F.relu(self.fc1(x))\n",
    "        x = self.dropout(x)\n",
    "        x = self.fc2(x)\n",
    "        return x\n"
   ]
  },
  {
   "cell_type": "code",
   "execution_count": 22,
   "metadata": {},
   "outputs": [
    {
     "name": "stdout",
     "output_type": "stream",
     "text": [
      "CNN(\n",
      "  (conv1): Conv2d(3, 64, kernel_size=(3, 3), stride=(1, 1), padding=(1, 1))\n",
      "  (conv2): Conv2d(64, 128, kernel_size=(3, 3), stride=(1, 1), padding=(1, 1))\n",
      "  (conv3): Conv2d(128, 256, kernel_size=(3, 3), stride=(1, 1), padding=(1, 1))\n",
      "  (conv4): Conv2d(256, 512, kernel_size=(3, 3), stride=(1, 1), padding=(1, 1))\n",
      "  (pool): MaxPool2d(kernel_size=2, stride=2, padding=0, dilation=1, ceil_mode=False)\n",
      "  (fc1): Linear(in_features=8192, out_features=128, bias=True)\n",
      "  (fc2): Linear(in_features=128, out_features=6, bias=True)\n",
      "  (dropout): Dropout(p=0.25, inplace=False)\n",
      ")\n"
     ]
    }
   ],
   "source": [
    "model = CNN().to(device=device)\n",
    "print(model)\n"
   ]
  },
  {
   "attachments": {},
   "cell_type": "markdown",
   "metadata": {},
   "source": [
    "출력 결과가 한눈에 들어오지 않는다면 `torchsummary` 라이브러리를 사용해 볼 수 있습니다. `torchsummary`는 케라스와 같은 형태로 모델을 출력해 볼 수 있는 라이브러리입니다.\n",
    "\n",
    "먼저 라이브러리를 설치합니다.\n",
    "> pip install torchsummary\n",
    "\n",
    "설치가 완료되었다면 torchsummary 라이브러리를 사용하여 모델의 네트워크 구조를 다시 확인해 봅시다."
   ]
  },
  {
   "cell_type": "code",
   "execution_count": 23,
   "metadata": {},
   "outputs": [
    {
     "name": "stdout",
     "output_type": "stream",
     "text": [
      "----------------------------------------------------------------\n",
      "        Layer (type)               Output Shape         Param #\n",
      "================================================================\n",
      "            Conv2d-1           [-1, 64, 64, 64]           1,792\n",
      "         MaxPool2d-2           [-1, 64, 32, 32]               0\n",
      "            Conv2d-3          [-1, 128, 32, 32]          73,856\n",
      "         MaxPool2d-4          [-1, 128, 16, 16]               0\n",
      "            Conv2d-5          [-1, 256, 16, 16]         295,168\n",
      "         MaxPool2d-6            [-1, 256, 8, 8]               0\n",
      "            Conv2d-7            [-1, 512, 8, 8]       1,180,160\n",
      "         MaxPool2d-8            [-1, 512, 4, 4]               0\n",
      "            Linear-9                  [-1, 128]       1,048,704\n",
      "          Dropout-10                  [-1, 128]               0\n",
      "           Linear-11                    [-1, 6]             774\n",
      "================================================================\n",
      "Total params: 2,600,454\n",
      "Trainable params: 2,600,454\n",
      "Non-trainable params: 0\n",
      "----------------------------------------------------------------\n",
      "Input size (MB): 0.05\n",
      "Forward/backward pass size (MB): 4.69\n",
      "Params size (MB): 9.92\n",
      "Estimated Total Size (MB): 14.66\n",
      "----------------------------------------------------------------\n"
     ]
    }
   ],
   "source": [
    "from torchsummary import summary\n",
    "\n",
    "summary(model, input_size=(3, 64, 64))"
   ]
  },
  {
   "cell_type": "code",
   "execution_count": 24,
   "metadata": {},
   "outputs": [],
   "source": [
    "def fit(epochs, model, criterion, optimizer, device=device, dataloader=train_dataloader):\n",
    "\n",
    "    for e in range(epochs):\n",
    "        running_loss = 0\n",
    "        for images, labels in dataloader:\n",
    "            images, labels = images.to(device), labels.to(device)\n",
    "\n",
    "            optimizer.zero_grad()\n",
    "            output = model(images)\n",
    "            loss = criterion(output, labels)\n",
    "            loss.backward()\n",
    "            optimizer.step()\n",
    "\n",
    "            running_loss += loss.data\n",
    "        else:\n",
    "            print(f\" Epoch {e}, Training loss: {running_loss/len(dataloader)}\")\n"
   ]
  },
  {
   "cell_type": "code",
   "execution_count": 28,
   "metadata": {},
   "outputs": [
    {
     "name": "stdout",
     "output_type": "stream",
     "text": [
      " Epoch 0, Training loss: 1.2665506601333618\n",
      " Epoch 1, Training loss: 0.9253822565078735\n",
      " Epoch 2, Training loss: 0.7735886573791504\n",
      " Epoch 3, Training loss: 0.6715831160545349\n",
      " Epoch 4, Training loss: 0.5863961577415466\n",
      " Epoch 5, Training loss: 0.5069655179977417\n",
      " Epoch 6, Training loss: 0.4486648142337799\n",
      " Epoch 7, Training loss: 0.39137211441993713\n",
      " Epoch 8, Training loss: 0.3335861265659332\n",
      " Epoch 9, Training loss: 0.28163942694664\n"
     ]
    }
   ],
   "source": [
    "epochs = 10\n",
    "model = CNN().to(device=device)\n",
    "criterion = nn.CrossEntropyLoss()\n",
    "optimizer = optim.SGD(model.parameters(), lr=0.1)\n",
    "\n",
    "fit(epochs, model, criterion, optimizer)\n"
   ]
  },
  {
   "cell_type": "code",
   "execution_count": 29,
   "metadata": {},
   "outputs": [],
   "source": [
    "def predict(model, batch_size=32, device=device, dataloader=test_dataloader):\n",
    "    classes = ('buildings', 'forest', 'glacier', 'mountain',\n",
    "               'sea', 'street')\n",
    "\n",
    "    with torch.no_grad():\n",
    "        n_correct = 0\n",
    "        n_samples = 0\n",
    "        n_class_correct = [0 for i in range(6)]\n",
    "        n_class_samples = [0 for i in range(6)]\n",
    "        for images, labels in test_dataloader:\n",
    "            images, labels = images.to(device), labels.to(device)\n",
    "            outputs = model(images)\n",
    "            _, predicted = torch.max(outputs, 1)\n",
    "            n_samples += labels.size(0)\n",
    "            n_correct += (predicted == labels).sum().item()\n",
    "\n",
    "            for i in range(batch_size):\n",
    "                label = labels[i]\n",
    "                pred = predicted[i]\n",
    "                if (label == pred):\n",
    "                    n_class_correct[label] += 1\n",
    "                n_class_samples[label] += 1\n",
    "\n",
    "        acc = 100.0 * n_correct / n_samples\n",
    "        print(f'Accuracy of the network: {acc} %')\n",
    "\n",
    "        for i in range(6):\n",
    "            acc = 100.0 * n_class_correct[i] / n_class_samples[i]\n",
    "            print(f'Accuracy of {classes[i]}: {acc} %')\n"
   ]
  },
  {
   "cell_type": "code",
   "execution_count": 30,
   "metadata": {},
   "outputs": [
    {
     "name": "stdout",
     "output_type": "stream",
     "text": [
      "Accuracy of the network: 79.80510752688173 %\n",
      "Accuracy of buildings: 79.40503432494279 %\n",
      "Accuracy of forest: 81.64556962025317 %\n",
      "Accuracy of glacier: 72.15189873417721 %\n",
      "Accuracy of mountain: 71.80952380952381 %\n",
      "Accuracy of sea: 89.6078431372549 %\n",
      "Accuracy of street: 85.53459119496856 %\n"
     ]
    }
   ],
   "source": [
    "predict(model)\n"
   ]
  },
  {
   "cell_type": "markdown",
   "metadata": {},
   "source": []
  }
 ],
 "metadata": {
  "kernelspec": {
   "display_name": "venv",
   "language": "python",
   "name": "python3"
  },
  "language_info": {
   "codemirror_mode": {
    "name": "ipython",
    "version": 3
   },
   "file_extension": ".py",
   "mimetype": "text/x-python",
   "name": "python",
   "nbconvert_exporter": "python",
   "pygments_lexer": "ipython3",
   "version": "3.9.13"
  },
  "orig_nbformat": 4,
  "vscode": {
   "interpreter": {
    "hash": "9ba10514d92c171690b73ca0a9c097f69f78d6fa5f41507cb6917f0a9599880a"
   }
  }
 },
 "nbformat": 4,
 "nbformat_minor": 2
}
