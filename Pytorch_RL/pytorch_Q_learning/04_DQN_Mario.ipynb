{
 "cells": [
  {
   "cell_type": "code",
   "execution_count": 11,
   "metadata": {},
   "outputs": [
    {
     "name": "stdout",
     "output_type": "stream",
     "text": [
      "cuda\n",
      "0.26.2\n"
     ]
    }
   ],
   "source": [
    "import torch\n",
    "import torch.nn as nn\n",
    "from torchvision import transforms\n",
    "from PIL import Image\n",
    "import numpy as np\n",
    "from pathlib import Path\n",
    "from collections import deque\n",
    "import random, datetime, os, copy\n",
    "\n",
    "import gym\n",
    "from gym.spaces import Box\n",
    "from gym.wrappers import frame_stack\n",
    "from gym_super_mario_bros.actions import SIMPLE_MOVEMENT\n",
    "\n",
    "from nes_py.wrappers import JoypadSpace\n",
    "\n",
    "import gym_super_mario_bros\n",
    "\n",
    "device = torch.device('cuda' if torch.cuda.is_available() else 'cpu')\n",
    "print(device)\n",
    "print(gym.__version__)"
   ]
  },
  {
   "cell_type": "code",
   "execution_count": 14,
   "metadata": {},
   "outputs": [
    {
     "ename": "ModuleNotFoundError",
     "evalue": "No module named 'readchar'",
     "output_type": "error",
     "traceback": [
      "\u001b[1;31m---------------------------------------------------------------------------\u001b[0m",
      "\u001b[1;31mModuleNotFoundError\u001b[0m                       Traceback (most recent call last)",
      "Cell \u001b[1;32mIn[14], line 3\u001b[0m\n\u001b[0;32m      1\u001b[0m \u001b[39mimport\u001b[39;00m \u001b[39mgym\u001b[39;00m\n\u001b[0;32m      2\u001b[0m \u001b[39mfrom\u001b[39;00m \u001b[39mgym\u001b[39;00m\u001b[39m.\u001b[39;00m\u001b[39menvs\u001b[39;00m\u001b[39m.\u001b[39;00m\u001b[39mregistration\u001b[39;00m \u001b[39mimport\u001b[39;00m register\n\u001b[1;32m----> 3\u001b[0m \u001b[39mimport\u001b[39;00m \u001b[39mreadchar\u001b[39;00m\n\u001b[0;32m      5\u001b[0m \u001b[39m# MACROS\u001b[39;00m\n\u001b[0;32m      6\u001b[0m LEFT \u001b[39m=\u001b[39m \u001b[39m0\u001b[39m\n",
      "\u001b[1;31mModuleNotFoundError\u001b[0m: No module named 'readchar'"
     ]
    }
   ],
   "source": [
    "import gym\n",
    "from gym.envs.registration import register\n",
    "import readchar\n",
    "\n",
    "# MACROS\n",
    "LEFT = 0\n",
    "DOWN = 1\n",
    "RIGHT = 2\n",
    "UP = 3\n",
    "\n",
    "# Key mapping\n",
    "arrow_keys = {\n",
    "    'w': UP,\n",
    "    's': DOWN,\n",
    "    'd': RIGHT,\n",
    "    'a': LEFT\n",
    "}\n",
    "\n",
    "# Register FrozenLake with is_slippery False\n",
    "register(\n",
    "    id='FrozenLake-v3',\n",
    "    entry_point=\"gym.envs.toy_text:FrozenLakeEnv\",\n",
    "    kwargs={'map_name': '4x4', 'is_slippery': False}\n",
    ")\n",
    "\n",
    "env = gym.make(\"FrozenLake-v3\")\n",
    "env.reset()\n",
    "env.render()\n",
    "\n",
    "while True:\n",
    "    # Choose an action from keyboard\n",
    "    key = readchar.readkey()\n",
    "\n",
    "    if key not in arrow_keys.keys():\n",
    "        print(\"Game aborted!\")\n",
    "        break\n",
    "\n",
    "    action = arrow_keys[key]\n",
    "    print(arrow_keys[key])\n",
    "    state, reward, done, info = env.step(action)\n",
    "    env.render()  # Show the board after action\n",
    "    print(\"State:\", state, \"Action\", action, \"Reward:\", reward, \"Info:\", info)\n",
    "\n",
    "    if done:\n",
    "        print(\"Finished with reward\", reward)\n",
    "        break\n"
   ]
  },
  {
   "cell_type": "code",
   "execution_count": null,
   "metadata": {},
   "outputs": [],
   "source": []
  }
 ],
 "metadata": {
  "kernelspec": {
   "display_name": "venv",
   "language": "python",
   "name": "python3"
  },
  "language_info": {
   "codemirror_mode": {
    "name": "ipython",
    "version": 3
   },
   "file_extension": ".py",
   "mimetype": "text/x-python",
   "name": "python",
   "nbconvert_exporter": "python",
   "pygments_lexer": "ipython3",
   "version": "3.9.13"
  },
  "orig_nbformat": 4,
  "vscode": {
   "interpreter": {
    "hash": "9ba10514d92c171690b73ca0a9c097f69f78d6fa5f41507cb6917f0a9599880a"
   }
  }
 },
 "nbformat": 4,
 "nbformat_minor": 2
}
